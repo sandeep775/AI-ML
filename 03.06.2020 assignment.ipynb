{
 "cells": [
  {
   "cell_type": "markdown",
   "metadata": {},
   "source": [
    "## CSE-221710309061-V. Sandeep sagar"
   ]
  },
  {
   "cell_type": "code",
   "execution_count": 1,
   "metadata": {},
   "outputs": [
    {
     "name": "stdout",
     "output_type": "stream",
     "text": [
      "data science with ai and ml,advanced programming,python\n"
     ]
    }
   ],
   "source": [
    "#answer1\n",
    "f=open(\"file1.txt\",\"w\")\n",
    "f.write(\"data science with ai and ml,advanced programming,python\")\n",
    "f.close()\n",
    "\n",
    "f=open(\"file1.txt\",\"r\")\n",
    "data=f.read()\n",
    "print(data)\n",
    "f.close()\n",
    "\n",
    "f=open(\"file2.txt\",\"w\")\n",
    "f.write(data[::-1])\n",
    "f.close()"
   ]
  },
  {
   "cell_type": "code",
   "execution_count": 2,
   "metadata": {},
   "outputs": [
    {
     "name": "stdout",
     "output_type": "stream",
     "text": [
      "contents of file with line numbers:\n",
      "Line1: data science\n",
      "Line2: advanced programming\n",
      "Line3: python programming\n"
     ]
    }
   ],
   "source": [
    "#answer2\n",
    "L=[\"data science\\n\",\"advanced programming\\n\",\"python programming\\n\"]\n",
    "\n",
    "f1=open(\"myfile.txt\",\"w\")\n",
    "f1.writelines(L)\n",
    "f1.close()\n",
    "\n",
    "f1=open(\"myfile.txt\",\"r\")\n",
    "count=0\n",
    "\n",
    "print(\"contents of file with line numbers:\")\n",
    "for line in f1:\n",
    "    count+=1\n",
    "    print(\"Line{}: {}\".format(count,line.strip()))\n",
    "f1.close()"
   ]
  },
  {
   "cell_type": "code",
   "execution_count": 3,
   "metadata": {},
   "outputs": [
    {
     "name": "stdout",
     "output_type": "stream",
     "text": [
      "True\n"
     ]
    }
   ],
   "source": [
    "#answer 3\n",
    "def Duplicates(list1):\n",
    "    if len(list1) == len(set(list1)):\n",
    "        return False\n",
    "    else:\n",
    "        return True\n",
    "list1=[1,2,3,4,2]\n",
    "result=Duplicates(list1)\n",
    "print(result)"
   ]
  },
  {
   "cell_type": "code",
   "execution_count": 4,
   "metadata": {},
   "outputs": [
    {
     "name": "stdout",
     "output_type": "stream",
     "text": [
      "True\n"
     ]
    }
   ],
   "source": [
    "#answer 5\n",
    "L1=[1,2,1]\n",
    "L2=[2,1,1]\n",
    "def Permutation(list1,list2):\n",
    "    if len(list1)!= len(list2):\n",
    "         return False;\n",
    "    for i in range(0, len(list1)):\n",
    "           if list1.count(list1[i]) != list2.count(list1[i]):\n",
    "                 return False\n",
    "\n",
    "def islist_permutation(list1,list2):\n",
    "      if (Permutation(list1,list2) == False):\n",
    "        return False \n",
    "      else:\n",
    "        return True\n",
    "\n",
    "print(islist_permutation(L1,L2))"
   ]
  },
  {
   "cell_type": "code",
   "execution_count": 18,
   "metadata": {},
   "outputs": [
    {
     "name": "stdout",
     "output_type": "stream",
     "text": [
      "fraction is: 0.4\n",
      "addition: 0.7\n",
      "subtraction: 0.4666666666666666\n",
      "multiplication: 1.5\n",
      "division: 4.8\n"
     ]
    }
   ],
   "source": [
    "#answer 4\n",
    "import san as f\n",
    "f.fr(2,5)\n",
    "f.add(1,10,3,5)\n",
    "f.sub(2,3,1,5)\n",
    "f.mul(3,4,2,1)\n",
    "f.div(2,1,5,12)"
   ]
  },
  {
   "cell_type": "code",
   "execution_count": null,
   "metadata": {},
   "outputs": [],
   "source": []
  }
 ],
 "metadata": {
  "kernelspec": {
   "display_name": "Python 3",
   "language": "python",
   "name": "python3"
  },
  "language_info": {
   "codemirror_mode": {
    "name": "ipython",
    "version": 3
   },
   "file_extension": ".py",
   "mimetype": "text/x-python",
   "name": "python",
   "nbconvert_exporter": "python",
   "pygments_lexer": "ipython3",
   "version": "3.7.6"
  }
 },
 "nbformat": 4,
 "nbformat_minor": 4
}
